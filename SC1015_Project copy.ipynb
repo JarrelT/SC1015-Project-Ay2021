{
 "cells": [
  {
   "cell_type": "code",
   "execution_count": 3,
   "id": "5ef3c9bf",
   "metadata": {},
   "outputs": [],
   "source": [
    "import numpy as np\n",
    "import pandas as pd\n",
    "import seaborn as sb\n",
    "import matplotlib.pyplot as plt"
   ]
  },
  {
   "cell_type": "code",
   "execution_count": 4,
   "id": "9f342763",
   "metadata": {},
   "outputs": [],
   "source": [
    "names = [\"Denver\", \"Miami\", \"Minneapolis\", \"New York\", \"Phoenix\"]\n",
    "colnames = [\"W0000_0600\",\"W0601_1200\",\"W1201_1800\",\"W1801_2359\",\"WS1\",\"WS2\",\"WS3\",\"WS4\"]\n",
    "countries = [ \n",
    " pd.read_csv('Denver.csv')\n",
    ",pd.read_csv('Miami.csv')\n",
    ",pd.read_csv('Minneapolis.csv')\n",
    ",pd.read_csv('NewYork.csv')\n",
    ",pd.read_csv('Phoenix.csv')\n",
    "]"
   ]
  },
  {
   "cell_type": "code",
   "execution_count": 5,
   "id": "32e5a4a8",
   "metadata": {},
   "outputs": [
    {
     "name": "stdout",
     "output_type": "stream",
     "text": [
      "<class 'pandas.core.frame.DataFrame'>\n",
      "RangeIndex: 2192 entries, 0 to 2191\n",
      "Data columns (total 15 columns):\n",
      " #   Column      Non-Null Count  Dtype \n",
      "---  ------      --------------  ----- \n",
      " 0   Date        2192 non-null   object\n",
      " 1   W0000_0600  2192 non-null   object\n",
      " 2   W0601_1200  2192 non-null   object\n",
      " 3   W1201_1800  2192 non-null   object\n",
      " 4   W1801_2359  2192 non-null   object\n",
      " 5   WS1         506 non-null    object\n",
      " 6   WS2         342 non-null    object\n",
      " 7   WS3         344 non-null    object\n",
      " 8   WS4         408 non-null    object\n",
      " 9   A0000_0600  2192 non-null   int64 \n",
      " 10  A0601_1200  2192 non-null   int64 \n",
      " 11  A1201_1800  2192 non-null   int64 \n",
      " 12  A1801_2359  2192 non-null   int64 \n",
      " 13  A_Total     2192 non-null   int64 \n",
      " 14  Accident    2192 non-null   bool  \n",
      "dtypes: bool(1), int64(5), object(9)\n",
      "memory usage: 242.0+ KB\n"
     ]
    }
   ],
   "source": [
    "countries[0].info()"
   ]
  },
  {
   "cell_type": "code",
   "execution_count": 6,
   "id": "7e4acacb",
   "metadata": {},
   "outputs": [
    {
     "name": "stdout",
     "output_type": "stream",
     "text": [
      "\n",
      "Country : Denver\n",
      "              Date W0000_0600 W0601_1200 W1201_1800 W1801_2359    WS1    WS2  \\\n",
      "count         2192       2192       2192       2192       2192    506    342   \n",
      "unique        2192          7          6          6          6      5      4   \n",
      "top     2017-01-10      Clear      Clear      Clear      Clear  Light  Light   \n",
      "freq             1       1686       1850       1848       1784    394    236   \n",
      "mean           NaN        NaN        NaN        NaN        NaN    NaN    NaN   \n",
      "std            NaN        NaN        NaN        NaN        NaN    NaN    NaN   \n",
      "min            NaN        NaN        NaN        NaN        NaN    NaN    NaN   \n",
      "25%            NaN        NaN        NaN        NaN        NaN    NaN    NaN   \n",
      "50%            NaN        NaN        NaN        NaN        NaN    NaN    NaN   \n",
      "75%            NaN        NaN        NaN        NaN        NaN    NaN    NaN   \n",
      "max            NaN        NaN        NaN        NaN        NaN    NaN    NaN   \n",
      "\n",
      "          WS3    WS4   A0000_0600   A0601_1200   A1201_1800   A1801_2359  \\\n",
      "count     344    408  2192.000000  2192.000000  2192.000000  2192.000000   \n",
      "unique      4      5          NaN          NaN          NaN          NaN   \n",
      "top     Light  Light          NaN          NaN          NaN          NaN   \n",
      "freq      156    304          NaN          NaN          NaN          NaN   \n",
      "mean      NaN    NaN     0.619982     0.828011     1.109489     1.185675   \n",
      "std       NaN    NaN     1.187268     1.282569     1.330697     1.342258   \n",
      "min       NaN    NaN     0.000000     0.000000     0.000000     0.000000   \n",
      "25%       NaN    NaN     0.000000     0.000000     0.000000     0.000000   \n",
      "50%       NaN    NaN     0.000000     0.000000     0.000000     0.000000   \n",
      "75%       NaN    NaN     0.000000     2.000000     2.000000     2.000000   \n",
      "max       NaN    NaN     4.000000     4.000000     4.000000     4.000000   \n",
      "\n",
      "            A_Total Accident  \n",
      "count   2192.000000     2192  \n",
      "unique          NaN        2  \n",
      "top             NaN     True  \n",
      "freq            NaN     1494  \n",
      "mean       3.630474      NaN  \n",
      "std        5.337478      NaN  \n",
      "min        0.000000      NaN  \n",
      "25%        0.000000      NaN  \n",
      "50%        2.000000      NaN  \n",
      "75%        5.000000      NaN  \n",
      "max       65.000000      NaN  \n",
      "\n",
      "Country : Miami\n",
      "              Date W0000_0600 W0601_1200 W1201_1800 W1801_2359    WS1    WS2  \\\n",
      "count         2192       2192       2192       2192       2192    934    875   \n",
      "unique        2192          7          7          7          7      5      5   \n",
      "top     2017-01-10      Clear      Clear      Clear      Clear  Light  Light   \n",
      "freq             1       1258       1317       1204       1232    687    599   \n",
      "mean           NaN        NaN        NaN        NaN        NaN    NaN    NaN   \n",
      "std            NaN        NaN        NaN        NaN        NaN    NaN    NaN   \n",
      "min            NaN        NaN        NaN        NaN        NaN    NaN    NaN   \n",
      "25%            NaN        NaN        NaN        NaN        NaN    NaN    NaN   \n",
      "50%            NaN        NaN        NaN        NaN        NaN    NaN    NaN   \n",
      "75%            NaN        NaN        NaN        NaN        NaN    NaN    NaN   \n",
      "max            NaN        NaN        NaN        NaN        NaN    NaN    NaN   \n",
      "\n",
      "          WS3    WS4   A0000_0600   A0601_1200   A1201_1800   A1801_2359  \\\n",
      "count     988    960  2192.000000  2192.000000  2192.000000  2192.000000   \n",
      "unique      5      5          NaN          NaN          NaN          NaN   \n",
      "top     Light  Light          NaN          NaN          NaN          NaN   \n",
      "freq      696    739          NaN          NaN          NaN          NaN   \n",
      "mean      NaN    NaN     1.191606     1.432938     1.629562     1.544708   \n",
      "std       NaN    NaN     1.343634     1.297074     1.248496     1.203907   \n",
      "min       NaN    NaN     0.000000     0.000000     0.000000     0.000000   \n",
      "25%       NaN    NaN     0.000000     0.000000     0.000000     0.000000   \n",
      "50%       NaN    NaN     0.000000     2.000000     2.000000     2.000000   \n",
      "75%       NaN    NaN     2.000000     2.000000     2.000000     2.000000   \n",
      "max       NaN    NaN     4.000000     4.000000     4.000000     4.000000   \n",
      "\n",
      "            A_Total Accident  \n",
      "count   2192.000000     2192  \n",
      "unique          NaN        2  \n",
      "top             NaN     True  \n",
      "freq            NaN     1812  \n",
      "mean      48.791971      NaN  \n",
      "std      108.428754      NaN  \n",
      "min        0.000000      NaN  \n",
      "25%        2.000000      NaN  \n",
      "50%        7.000000      NaN  \n",
      "75%       16.000000      NaN  \n",
      "max      941.000000      NaN  \n",
      "\n",
      "Country : Minneapolis\n",
      "              Date W0000_0600 W0601_1200 W1201_1800 W1801_2359    WS1    WS2  \\\n",
      "count         2192       2192       2192       2192       2192    806    791   \n",
      "unique        2192          8          6          7          8      6      5   \n",
      "top     2017-01-10      Clear      Clear      Clear      Clear  Light  Light   \n",
      "freq             1       1386       1401       1380       1540    594    499   \n",
      "mean           NaN        NaN        NaN        NaN        NaN    NaN    NaN   \n",
      "std            NaN        NaN        NaN        NaN        NaN    NaN    NaN   \n",
      "min            NaN        NaN        NaN        NaN        NaN    NaN    NaN   \n",
      "25%            NaN        NaN        NaN        NaN        NaN    NaN    NaN   \n",
      "50%            NaN        NaN        NaN        NaN        NaN    NaN    NaN   \n",
      "75%            NaN        NaN        NaN        NaN        NaN    NaN    NaN   \n",
      "max            NaN        NaN        NaN        NaN        NaN    NaN    NaN   \n",
      "\n",
      "          WS3    WS4   A0000_0600   A0601_1200   A1201_1800   A1801_2359  \\\n",
      "count     812    652  2192.000000  2192.000000  2192.000000  2192.000000   \n",
      "unique      5      6          NaN          NaN          NaN          NaN   \n",
      "top     Light  Light          NaN          NaN          NaN          NaN   \n",
      "freq      513    505          NaN          NaN          NaN          NaN   \n",
      "mean      NaN    NaN     0.852646     0.909672     1.089872     1.097172   \n",
      "std       NaN    NaN     1.095488     1.055752     1.057734     1.105214   \n",
      "min       NaN    NaN     0.000000     0.000000     0.000000     0.000000   \n",
      "25%       NaN    NaN     0.000000     0.000000     0.000000     0.000000   \n",
      "50%       NaN    NaN     0.000000     0.000000     2.000000     2.000000   \n",
      "75%       NaN    NaN     2.000000     2.000000     2.000000     2.000000   \n",
      "max       NaN    NaN     4.000000     4.000000     4.000000     4.000000   \n",
      "\n",
      "            A_Total Accident  \n",
      "count   2192.000000     2192  \n",
      "unique          NaN        2  \n",
      "top             NaN     True  \n",
      "freq            NaN     1534  \n",
      "mean      10.383212      NaN  \n",
      "std       19.886374      NaN  \n",
      "min        0.000000      NaN  \n",
      "25%        0.000000      NaN  \n",
      "50%        4.000000      NaN  \n",
      "75%       13.000000      NaN  \n",
      "max      299.000000      NaN  \n",
      "\n",
      "Country : New York\n",
      "              Date W0000_0600 W0601_1200 W1201_1800 W1801_2359    WS1    WS2  \\\n",
      "count         2192       2192       2192       2192       2192    736    575   \n",
      "unique        2192          6          6          6          7      5      5   \n",
      "top     2017-01-10      Clear      Clear      Clear      Clear  Light  Light   \n",
      "freq             1       1456       1617       1398       1403    409    332   \n",
      "mean           NaN        NaN        NaN        NaN        NaN    NaN    NaN   \n",
      "std            NaN        NaN        NaN        NaN        NaN    NaN    NaN   \n",
      "min            NaN        NaN        NaN        NaN        NaN    NaN    NaN   \n",
      "25%            NaN        NaN        NaN        NaN        NaN    NaN    NaN   \n",
      "50%            NaN        NaN        NaN        NaN        NaN    NaN    NaN   \n",
      "75%            NaN        NaN        NaN        NaN        NaN    NaN    NaN   \n",
      "max            NaN        NaN        NaN        NaN        NaN    NaN    NaN   \n",
      "\n",
      "          WS3    WS4   A0000_0600   A0601_1200   A1201_1800   A1801_2359  \\\n",
      "count     794    789  2192.000000  2192.000000  2192.000000  2192.000000   \n",
      "unique      5      5          NaN          NaN          NaN          NaN   \n",
      "top     Light  Light          NaN          NaN          NaN          NaN   \n",
      "freq      301    335          NaN          NaN          NaN          NaN   \n",
      "mean      NaN    NaN     0.702555     0.593978     0.808394     0.953011   \n",
      "std       NaN    NaN     1.102271     1.083177     1.144416     1.155259   \n",
      "min       NaN    NaN     0.000000     0.000000     0.000000     0.000000   \n",
      "25%       NaN    NaN     0.000000     0.000000     0.000000     0.000000   \n",
      "50%       NaN    NaN     0.000000     0.000000     0.000000     0.000000   \n",
      "75%       NaN    NaN     2.000000     0.000000     2.000000     2.000000   \n",
      "max       NaN    NaN     4.000000     4.000000     4.000000     4.000000   \n",
      "\n",
      "            A_Total Accident  \n",
      "count   2192.000000     2192  \n",
      "unique          NaN        2  \n",
      "top             NaN     True  \n",
      "freq            NaN     1456  \n",
      "mean       3.224453      NaN  \n",
      "std        4.972291      NaN  \n",
      "min        0.000000      NaN  \n",
      "25%        0.000000      NaN  \n",
      "50%        2.000000      NaN  \n",
      "75%        4.000000      NaN  \n",
      "max       55.000000      NaN  \n",
      "\n",
      "Country : Phoenix\n",
      "              Date W0000_0600 W0601_1200 W1201_1800 W1801_2359    WS1    WS2  \\\n",
      "count         2192       2192       2192       2192       2192    217    201   \n",
      "unique        2192          6          4          6          5      5      4   \n",
      "top     2017-01-10      Clear      Clear      Clear      Clear  Light  Light   \n",
      "freq             1       1975       1991       1991       2029    178    150   \n",
      "mean           NaN        NaN        NaN        NaN        NaN    NaN    NaN   \n",
      "std            NaN        NaN        NaN        NaN        NaN    NaN    NaN   \n",
      "min            NaN        NaN        NaN        NaN        NaN    NaN    NaN   \n",
      "25%            NaN        NaN        NaN        NaN        NaN    NaN    NaN   \n",
      "50%            NaN        NaN        NaN        NaN        NaN    NaN    NaN   \n",
      "75%            NaN        NaN        NaN        NaN        NaN    NaN    NaN   \n",
      "max            NaN        NaN        NaN        NaN        NaN    NaN    NaN   \n",
      "\n",
      "          WS3    WS4   A0000_0600   A0601_1200   A1201_1800   A1801_2359  \\\n",
      "count     201    163  2192.000000  2192.000000  2192.000000  2192.000000   \n",
      "unique      5      5          NaN          NaN          NaN          NaN   \n",
      "top     Light  Light          NaN          NaN          NaN          NaN   \n",
      "freq      113    110          NaN          NaN          NaN          NaN   \n",
      "mean      NaN    NaN     0.911496     0.968066     1.083029     1.322536   \n",
      "std       NaN    NaN     1.178855     1.179810     1.147475     1.116035   \n",
      "min       NaN    NaN     0.000000     0.000000     0.000000     0.000000   \n",
      "25%       NaN    NaN     0.000000     0.000000     0.000000     0.000000   \n",
      "50%       NaN    NaN     0.000000     0.000000     1.000000     2.000000   \n",
      "75%       NaN    NaN     2.000000     2.000000     2.000000     2.000000   \n",
      "max       NaN    NaN     4.000000     4.000000     4.000000     4.000000   \n",
      "\n",
      "            A_Total Accident  \n",
      "count   2192.000000     2192  \n",
      "unique          NaN        2  \n",
      "top             NaN     True  \n",
      "freq            NaN     1718  \n",
      "mean       7.817062      NaN  \n",
      "std       11.093060      NaN  \n",
      "min        0.000000      NaN  \n",
      "25%        1.000000      NaN  \n",
      "50%        4.000000      NaN  \n",
      "75%        9.000000      NaN  \n",
      "max      103.000000      NaN  \n"
     ]
    }
   ],
   "source": [
    "for i in range(len(names)): # get statistic for all the 5 countries\n",
    "\tprint(\"\\nCountry :\", names[i])\n",
    "\tprint(countries[i].describe(include=\"all\"))"
   ]
  },
  {
   "cell_type": "markdown",
   "id": "de235357",
   "metadata": {},
   "source": [
    "Types of analysis to do (Add if you think it is relevant):\n",
    "   1. Correlation Matrix / Heatmap [ sb.heatmap(jointDF.corr(), vmin = -1, vmax = 1, annot = True, fmt=\".2f\") ]\n",
    "   2. No. of Weathers that occur from 2016 to 2021\n",
    "   3. Total no. of accidents that happened for each weathers \n",
    "      [ legnd_data = pkmndata[pkmndata[\"Legendary\"] == True] , print(\"Number of Legendary Pokemons :\", len(legnd_data)) ]\n",
    "   4. Uni-Variate Linear Regression (Predictor = precipitation)\n",
    "   5. Goodness of Fit of the Model\n",
    "   6. Regression with random train-test split\n",
    "   7. Simple Decision tree (Response = Accident[T/F], Predictor = precipitation)\n",
    "   8. Classification tree with Random Train-Test Split \n",
    "   9. Prediction of Accident "
   ]
  },
  {
   "cell_type": "code",
   "execution_count": 7,
   "id": "f5216fed",
   "metadata": {},
   "outputs": [
    {
     "name": "stdout",
     "output_type": "stream",
     "text": [
      "     W0000_0600\n",
      "0         Clear\n",
      "1         Clear\n",
      "2         Clear\n",
      "3         Clear\n",
      "4         Clear\n",
      "...         ...\n",
      "2187      Clear\n",
      "2188      Clear\n",
      "2189      Clear\n",
      "2190      Clear\n",
      "2191      Clear\n",
      "\n",
      "[2192 rows x 1 columns]\n"
     ]
    }
   ],
   "source": [
    "weather = pd.DataFrame(countries[0][\"W0000_0600\"])\n",
    "accident = pd.DataFrame(countries[0]['Accident'])\n",
    "print(weather)"
   ]
  },
  {
   "cell_type": "code",
   "execution_count": 8,
   "id": "99572a4a",
   "metadata": {},
   "outputs": [
    {
     "name": "stdout",
     "output_type": "stream",
     "text": [
      "Number of Weathers that occur : 7\n",
      "Clear            1686\n",
      "Rain              270\n",
      "Snow              170\n",
      "Fog                51\n",
      "Storm               8\n",
      "Precipitation       5\n",
      "Cold                2\n",
      "Name: W0000_0600, dtype: int64\n"
     ]
    },
    {
     "data": {
      "text/plain": [
       "<seaborn.axisgrid.FacetGrid at 0x1e00493b3d0>"
      ]
     },
     "execution_count": 8,
     "metadata": {},
     "output_type": "execute_result"
    },
    {
     "data": {
      "image/png": "[encoded data removed]",
      "text/plain": [
       "<Figure size 360x360 with 1 Axes>"
      ]
     },
     "metadata": {
      "needs_background": "light"
     },
     "output_type": "display_data"
    }
   ],
   "source": [
    "# Generations in the Dataset\n",
    "print(\"Number of Weathers that occur :\", len(countries[0][\"W0000_0600\"].unique()))\n",
    "\n",
    "# Pokemons in each Generation\n",
    "print(countries[0][\"W0000_0600\"].value_counts())\n",
    "sb.catplot(y = \"W0000_0600\", data = countries[0], kind = \"count\")"
   ]
  },
  {
   "cell_type": "code",
   "execution_count": 9,
   "id": "374695cd",
   "metadata": {},
   "outputs": [],
   "source": [
    "accdnt = pd.DataFrame(countries[0]['Accident'])\n",
    "weather = pd.DataFrame(countries[0][\"W0000_0600\"])"
   ]
  },
  {
   "cell_type": "code",
   "execution_count": 10,
   "id": "5555df8b",
   "metadata": {},
   "outputs": [
    {
     "name": "stdout",
     "output_type": "stream",
     "text": [
      "Train Set : (600, 1) (600, 1)\n",
      "Test Set  : (200, 1) (200, 1)\n"
     ]
    }
   ],
   "source": [
    "# Train Set : 600 samples\n",
    "weather_train = pd.DataFrame(weather[:600])\n",
    "accdnt_train = pd.DataFrame(accdnt[:600])\n",
    "\n",
    "# Test Set : 200 samples\n",
    "weather_test = pd.DataFrame(weather[-200:])\n",
    "accdnt_test = pd.DataFrame(accdnt[-200:])\n",
    "\n",
    "# Check the sample sizes\n",
    "print(\"Train Set :\", accdnt_train.shape, weather_train.shape)\n",
    "print(\"Test Set  :\", accdnt_test.shape, weather_test.shape)"
   ]
  },
  {
   "cell_type": "code",
   "execution_count": 47,
   "id": "253a21fe",
   "metadata": {
    "scrolled": true
   },
   "outputs": [
    {
     "data": {
      "text/plain": [
       "<bound method NDFrame.head of      W0000_0600_Clear  W0000_0600_Cold  W0000_0600_Fog  \\\n",
       "0                   1                0               0   \n",
       "1                   1                0               0   \n",
       "2                   1                0               0   \n",
       "3                   1                0               0   \n",
       "4                   1                0               0   \n",
       "..                ...              ...             ...   \n",
       "595                 1                0               0   \n",
       "596                 1                0               0   \n",
       "597                 0                0               0   \n",
       "598                 1                0               0   \n",
       "599                 1                0               0   \n",
       "\n",
       "     W0000_0600_Precipitation  W0000_0600_Rain  W0000_0600_Snow  \\\n",
       "0                           0                0                0   \n",
       "1                           0                0                0   \n",
       "2                           0                0                0   \n",
       "3                           0                0                0   \n",
       "4                           0                0                0   \n",
       "..                        ...              ...              ...   \n",
       "595                         0                0                0   \n",
       "596                         0                0                0   \n",
       "597                         0                1                0   \n",
       "598                         0                0                0   \n",
       "599                         0                0                0   \n",
       "\n",
       "     W0000_0600_Storm  \n",
       "0                   0  \n",
       "1                   0  \n",
       "2                   0  \n",
       "3                   0  \n",
       "4                   0  \n",
       "..                ...  \n",
       "595                 0  \n",
       "596                 0  \n",
       "597                 0  \n",
       "598                 0  \n",
       "599                 0  \n",
       "\n",
       "[600 rows x 7 columns]>"
      ]
     },
     "execution_count": 47,
     "metadata": {},
     "output_type": "execute_result"
    }
   ],
   "source": [
    "# Import Decision Tree Classifier model from Scikit-Learn\n",
    "from sklearn.tree import DecisionTreeClassifier\n",
    "\n",
    "# Create a Decision Tree Classifier object\n",
    "dectree = DecisionTreeClassifier(max_depth = 4)\n",
    "\n",
    "# Train the Decision Tree Classifier model\n",
    "odata_train = pd.get_dummies(weather_train)\n",
    "odata_test = pd.get_dummies(weather_test)\n",
    "dectree.fit(odata_train, accdnt_train)\n"
   ]
  },
  {
   "cell_type": "code",
   "execution_count": 48,
   "id": "bc8af724",
   "metadata": {},
   "outputs": [
    {
     "data": {
      "text/plain": [
       "[Text(478.2857142857143, 587.0880000000001, 'W0000_0600_Snow <= 0.5\\ngini = 0.499\\nsamples = 600\\nvalue = [310, 290]\\nclass = No Accident'),\n",
       " Text(382.62857142857143, 456.624, 'W0000_0600_Storm <= 0.5\\ngini = 0.5\\nsamples = 567\\nvalue = [285, 282]\\nclass = No Accident'),\n",
       " Text(286.9714285714286, 326.1600000000001, 'W0000_0600_Clear <= 0.5\\ngini = 0.5\\nsamples = 565\\nvalue = [283, 282]\\nclass = No Accident'),\n",
       " Text(191.31428571428572, 195.69600000000003, 'W0000_0600_Precipitation <= 0.5\\ngini = 0.492\\nsamples = 112\\nvalue = [49, 63]\\nclass = Accident'),\n",
       " Text(95.65714285714286, 65.23200000000008, 'gini = 0.491\\nsamples = 111\\nvalue = [48, 63]\\nclass = Accident'),\n",
       " Text(286.9714285714286, 65.23200000000008, 'gini = 0.0\\nsamples = 1\\nvalue = [1, 0]\\nclass = No Accident'),\n",
       " Text(382.62857142857143, 195.69600000000003, 'gini = 0.499\\nsamples = 453\\nvalue = [234, 219]\\nclass = No Accident'),\n",
       " Text(478.2857142857143, 326.1600000000001, 'gini = 0.0\\nsamples = 2\\nvalue = [2, 0]\\nclass = No Accident'),\n",
       " Text(573.9428571428572, 456.624, 'gini = 0.367\\nsamples = 33\\nvalue = [25, 8]\\nclass = No Accident')]"
      ]
     },
     "execution_count": 48,
     "metadata": {},
     "output_type": "execute_result"
    },
    {
     "data": {
      "image/png": "[encoded data removed]",
      "text/plain": [
       "<Figure size 864x864 with 1 Axes>"
      ]
     },
     "metadata": {
      "needs_background": "light"
     },
     "output_type": "display_data"
    }
   ],
   "source": [
    "feature_col = ['W0000_0600_Clear', 'W0000_0600_Cold', 'W0000_0600_Fog', 'W0000_0600_Precipitation', 'W0000_0600_Rain', 'W0000_0600_Snow', 'W0000_0600_Storm']\n",
    "f = plt.figure(figsize=(12,12))\n",
    "plot_tree(dectree, filled=True, rounded=True, feature_names= feature_col, class_names=['No Accident', 'Accident'])"
   ]
  },
  {
   "cell_type": "code",
   "execution_count": 55,
   "id": "c1449b88",
   "metadata": {},
   "outputs": [
    {
     "name": "stdout",
     "output_type": "stream",
     "text": [
      "Classification Accuracy \t: 0.5416666666666666\n"
     ]
    },
    {
     "data": {
      "text/plain": [
       "<AxesSubplot:>"
      ]
     },
     "execution_count": 55,
     "metadata": {},
     "output_type": "execute_result"
    },
    {
     "data": {
      "image/png": "[encoded data removed]",
      "text/plain": [
       "<Figure size 432x288 with 2 Axes>"
      ]
     },
     "metadata": {
      "needs_background": "light"
     },
     "output_type": "display_data"
    }
   ],
   "source": [
    "# Predict Legendary corresponding to Total Train\n",
    "accdnt_train_pred = dectree.predict(odata_train)\n",
    "\n",
    "# Print the Classification Accuracy\n",
    "print(\"Classification Accuracy \\t:\", dectree.score(odata_train, accdnt_train))\n",
    "\n",
    "# Plot the two-way Confusion Matrix\n",
    "from sklearn.metrics import confusion_matrix\n",
    "sb.heatmap(confusion_matrix(accdnt_train, accdnt_train_pred), \n",
    "           annot = True, fmt=\".0f\", annot_kws={\"size\": 18})"
   ]
  },
  {
   "cell_type": "code",
   "execution_count": 53,
   "id": "5a1b8277",
   "metadata": {},
   "outputs": [
    {
     "data": {
      "text/html": [
       "<div>\n",
       "<style scoped>\n",
       "    .dataframe tbody tr th:only-of-type {\n",
       "        vertical-align: middle;\n",
       "    }\n",
       "\n",
       "    .dataframe tbody tr th {\n",
       "        vertical-align: top;\n",
       "    }\n",
       "\n",
       "    .dataframe thead th {\n",
       "        text-align: right;\n",
       "    }\n",
       "</style>\n",
       "<table border=\"1\" class=\"dataframe\">\n",
       "  <thead>\n",
       "    <tr style=\"text-align: right;\">\n",
       "      <th></th>\n",
       "      <th>Accident</th>\n",
       "    </tr>\n",
       "  </thead>\n",
       "  <tbody>\n",
       "    <tr>\n",
       "      <th>count</th>\n",
       "      <td>600</td>\n",
       "    </tr>\n",
       "    <tr>\n",
       "      <th>unique</th>\n",
       "      <td>2</td>\n",
       "    </tr>\n",
       "    <tr>\n",
       "      <th>top</th>\n",
       "      <td>False</td>\n",
       "    </tr>\n",
       "    <tr>\n",
       "      <th>freq</th>\n",
       "      <td>310</td>\n",
       "    </tr>\n",
       "  </tbody>\n",
       "</table>\n",
       "</div>"
      ],
      "text/plain": [
       "       Accident\n",
       "count       600\n",
       "unique        2\n",
       "top       False\n",
       "freq        310"
      ]
     },
     "execution_count": 53,
     "metadata": {},
     "output_type": "execute_result"
    }
   ],
   "source": [
    "\n"
   ]
  },
  {
   "cell_type": "code",
   "execution_count": null,
   "id": "45771a1f",
   "metadata": {},
   "outputs": [],
   "source": []
  }
 ],
 "metadata": {
  "kernelspec": {
   "display_name": "Python 3",
   "language": "python",
   "name": "python3"
  },
  "language_info": {
   "codemirror_mode": {
    "name": "ipython",
    "version": 3
   },
   "file_extension": ".py",
   "mimetype": "text/x-python",
   "name": "python",
   "nbconvert_exporter": "python",
   "pygments_lexer": "ipython3",
   "version": "3.8.8"
  }
 },
 "nbformat": 4,
 "nbformat_minor": 5
}
