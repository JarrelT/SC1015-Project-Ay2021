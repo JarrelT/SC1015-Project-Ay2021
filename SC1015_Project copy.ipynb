{
 "cells": [
  {
   "cell_type": "code",
   "execution_count": null,
   "id": "5ef3c9bf",
   "metadata": {},
   "outputs": [],
   "source": [
    "import numpy as np\n",
    "import pandas as pd\n",
    "import seaborn as sb\n",
    "import matplotlib.pyplot as plt"
   ]
  },
  {
   "cell_type": "code",
   "execution_count": null,
   "id": "9f342763",
   "metadata": {},
   "outputs": [],
   "source": [
    "names = [\"Denver\", \"Miami\", \"Minneapolis\", \"New York\", \"Phoenix\"]\n",
    "colnames = [\"W0000_0600\",\"W0601_1200\",\"W1201_1800\",\"W1801_2359\",\"WS1\",\"WS2\",\"WS3\",\"WS4\"]\n",
    "countries = [ \n",
    " pd.read_csv('Denver.csv')\n",
    ",pd.read_csv('Miami.csv')\n",
    ",pd.read_csv('Minneapolis.csv')\n",
    ",pd.read_csv('New York.csv')\n",
    ",pd.read_csv('Phoenix.csv')\n",
    "]"
   ]
  },
  {
   "cell_type": "code",
   "execution_count": null,
   "id": "32e5a4a8",
   "metadata": {},
   "outputs": [],
   "source": [
    "countries[0].info()"
   ]
  },
  {
   "cell_type": "code",
   "execution_count": null,
   "id": "7e4acacb",
   "metadata": {},
   "outputs": [],
   "source": [
    "for i in range(len(names)): # get statistic for all the 5 countries\n",
    "\tprint(\"\\nCountry :\", names[i])\n",
    "\tprint(countries[i].describe(include=\"all\"))"
   ]
  },
  {
   "cell_type": "markdown",
   "id": "de235357",
   "metadata": {},
   "source": [
    "Types of analysis to do (Add if you think it is relevant):\n",
    "   1. Correlation Matrix / Heatmap [ sb.heatmap(jointDF.corr(), vmin = -1, vmax = 1, annot = True, fmt=\".2f\") ]\n",
    "   2. No. of Weathers that occur from 2016 to 2021\n",
    "   3. Total no. of accidents that happened for each weathers \n",
    "      [ legnd_data = pkmndata[pkmndata[\"Legendary\"] == True] , print(\"Number of Legendary Pokemons :\", len(legnd_data)) ]\n",
    "   4. Uni-Variate Linear Regression (Predictor = precipitation)\n",
    "   5. Goodness of Fit of the Model\n",
    "   6. Regression with random train-test split\n",
    "   7. Simple Decision tree (Response = Accident[T/F], Predictor = precipitation)\n",
    "   8. Classification tree with Random Train-Test Split \n",
    "   9. Prediction of Accident "
   ]
  },
  {
   "cell_type": "code",
   "execution_count": null,
   "id": "f5216fed",
   "metadata": {},
   "outputs": [],
   "source": [
    "weather = pd.DataFrame(countries[0]['W0000_0600'])\n",
    "accident = pd.DataFrame(countries[0]['Accident'])"
   ]
  },
  {
   "cell_type": "code",
   "execution_count": null,
   "id": "99572a4a",
   "metadata": {},
   "outputs": [],
   "source": [
    "# Generations in the Dataset\n",
    "print(\"Number of Weathers that occur :\", len(countries[0][\"W0000_0600\"].unique()))\n",
    "\n",
    "# Pokemons in each Generation\n",
    "print(countries[0][\"W0000_0600\"].value_counts())\n",
    "sb.catplot(y = \"W0000_0600\", data = countries[0], kind = \"count\")"
   ]
  }
 ],
 "metadata": {
  "kernelspec": {
   "display_name": "Python 3",
   "language": "python",
   "name": "python3"
  },
  "language_info": {
   "codemirror_mode": {
    "name": "ipython",
    "version": 3
   },
   "file_extension": ".py",
   "mimetype": "text/x-python",
   "name": "python",
   "nbconvert_exporter": "python",
   "pygments_lexer": "ipython3",
   "version": "3.9.7"
  }
 },
 "nbformat": 4,
 "nbformat_minor": 5
}
