{
 "cells": [
  {
   "cell_type": "code",
   "execution_count": null,
   "id": "5ef3c9bf",
   "metadata": {},
   "outputs": [],
   "source": [
    "import numpy as np\n",
    "import pandas as pd\n",
    "import seaborn as sb\n",
    "import matplotlib.pyplot as plt"
   ]
  },
  {
   "cell_type": "code",
   "execution_count": null,
   "id": "9f342763",
   "metadata": {},
   "outputs": [],
   "source": [
    "names = [\"Denver\", \"Miami\", \"Minneapolis\", \"New York\", \"Phoenix\"]\n",
    "colnames = [\"W0000_0600\",\"W0601_1200\",\"W1201_1800\",\"W1801_2359\",\"WS1\",\"WS2\",\"WS3\",\"WS4\"]\n",
    "countries = [ \n",
    " pd.read_csv('Denver.csv')\n",
    ",pd.read_csv('Miami.csv')\n",
    ",pd.read_csv('Minneapolis.csv')\n",
    ",pd.read_csv('NewYork.csv')\n",
    ",pd.read_csv('Phoenix.csv')\n",
    "]"
   ]
  },
  {
   "cell_type": "code",
   "execution_count": null,
   "id": "32e5a4a8",
   "metadata": {},
   "outputs": [],
   "source": [
    "countries[0].info()"
   ]
  },
  {
   "cell_type": "code",
   "execution_count": null,
   "id": "7e4acacb",
   "metadata": {},
   "outputs": [],
   "source": [
    "for i in range(len(names)): # get statistic for all the 5 countries\n",
    "\tprint(\"\\nCountry :\", names[i])\n",
    "\tprint(countries[i].describe(include=\"all\"))"
   ]
  },
  {
   "cell_type": "code",
   "execution_count": null,
   "id": "f9f0ca86",
   "metadata": {},
   "outputs": [],
   "source": []
  }
 ],
 "metadata": {
  "kernelspec": {
   "display_name": "Python 3 (ipykernel)",
   "language": "python",
   "name": "python3"
  },
  "language_info": {
   "codemirror_mode": {
    "name": "ipython",
    "version": 3
   },
   "file_extension": ".py",
   "mimetype": "text/x-python",
   "name": "python",
   "nbconvert_exporter": "python",
   "pygments_lexer": "ipython3",
   "version": "3.9.7"
  }
 },
 "nbformat": 4,
 "nbformat_minor": 5
}
